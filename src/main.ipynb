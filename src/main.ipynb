{
 "cells": [
  {
   "cell_type": "markdown",
   "metadata": {},
   "source": [
    "## Network from Kell, Yamins, Shook, Norman-Haignere, McDermott, 2018\n",
    "\n",
    "This notebook shows how to create a tensorflow graph for the network with the weights and biases used in <a href=\"https://www.cell.com/neuron/fulltext/S0896-6273(18)30250-2\">Kell et al., 2018</a>. This notebook also gives an example of how to pass a sound into the network.\n",
    "\n",
    "\n",
    "### Note on network input\n",
    "\n",
    "The input to the network is a \"cochleagram\", a time-frequency decomposition of a sound that is similar to a spectrogram. Below we provide examples of how to pass a pre-computed cochleagram into the network, as well as how to compute the cochleagram for an example wav and then pass that cochleagram to the network.\n",
    "\n",
    "### Dependencies\n",
    "\n",
    "Most of the dependencies to run this are relatively standard. However, please note the following:\n",
    "- This notebook was tested and run with version 1.5.0 of `tensorflow`. It was not tested with other versions.\n",
    "- `pycochleagram` is a module to generate cochleagrams to pass sounds into the network, which can be found <a href=\"https://github.com/mcdermottLab/pycochleagram\">here</a>.\n",
    "- `PIL` is the Python Image Library.\n",
    "\n",
    "### Contact\n",
    "If you have any questions, please contact Alex Kell. Email: < first_name >< last_name >@mit.edu.\n",
    "\n",
    "Thanks, and enjoy!"
   ]
  },
  {
   "cell_type": "code",
   "execution_count": 1,
   "metadata": {},
   "outputs": [],
   "source": [
    "import IPython.display as ipd\n",
    "from network.branched_network_class import branched_network\n",
    "import tensorflow as tf\n",
    "import numpy as np\n",
    "import scipy.io.wavfile as wav\n",
    "import librosa"
   ]
  },
  {
   "cell_type": "code",
   "execution_count": 2,
   "metadata": {},
   "outputs": [
    {
     "name": "stdout",
     "output_type": "stream",
     "text": [
      "Populating the interactive namespace from numpy and matplotlib\n"
     ]
    },
    {
     "name": "stderr",
     "output_type": "stream",
     "text": [
      "/home/davidlee/dev/kelletal2018/venv/local/lib/python2.7/site-packages/IPython/core/magics/pylab.py:161: UserWarning: pylab import has clobbered these variables: ['plt']\n",
      "`%matplotlib` prevents importing * from pylab and numpy\n",
      "  \"\\n`%matplotlib` prevents importing * from pylab and numpy\"\n"
     ]
    }
   ],
   "source": [
    "# import the following to run demo_from_wav()\n",
    "import cochleagram as cgram\n",
    "from PIL import Image\n",
    "import matplotlib as plt\n",
    "%pylab inline"
   ]
  },
  {
   "cell_type": "code",
   "execution_count": 3,
   "metadata": {},
   "outputs": [],
   "source": [
    "## Some helper functions\n",
    "def resample(example, new_size):\n",
    "    im = Image.fromarray(example)\n",
    "    resized_image = im.resize(new_size, resample=Image.ANTIALIAS)\n",
    "    return np.array(resized_image)\n",
    "\n",
    "def plot_cochleagram(cochleagram, title): \n",
    "    plt.figure(figsize=(6,3))\n",
    "    plt.matshow(cochleagram.reshape(256,256), origin='lower',cmap=plt.cm.Blues, fignum=False, aspect='auto')\n",
    "    plt.yticks([]); plt.xticks([]); plt.title(title); \n",
    "    \n",
    "def play_wav(wav_f, sr, title):   \n",
    "    print title+':'\n",
    "    ipd.display(ipd.Audio(wav_f, rate=sr))"
   ]
  },
  {
   "cell_type": "code",
   "execution_count": 4,
   "metadata": {},
   "outputs": [
    {
     "name": "stdout",
     "output_type": "stream",
     "text": [
      "28 small\n",
      "78 call\n",
      "139 things\n",
      "219 cheese\n",
      "241 store\n",
      "263 need\n",
      "396 these\n",
      "397 also\n",
      "514 into\n",
      "585 fresh\n"
     ]
    }
   ],
   "source": [
    "word_key = np.load('./demo_stim/logits_to_word_key.npy') # load logits to word key\n",
    "allowed_words = [\n",
    "    'also',\n",
    "    'call',\n",
    "    'cheese',\n",
    "    'fresh',\n",
    "    'into',\n",
    "    'need',\n",
    "    'small',\n",
    "    'store',\n",
    "    'these',\n",
    "    'things',\n",
    "]\n",
    "\n",
    "for i, word in enumerate(word_key):\n",
    "    if word in allowed_words:\n",
    "        print i, word"
   ]
  },
  {
   "cell_type": "code",
   "execution_count": 5,
   "metadata": {},
   "outputs": [],
   "source": [
    "def generate_cochleagram(filename):\n",
    "    # define parameters\n",
    "    wav_f, sr = librosa.core.load(filename, sr=16000) # note the sampling rate is 16000hz.\n",
    "    n = 50\n",
    "    low_lim, hi_lim = 20, 8000\n",
    "    sample_factor, pad_factor, downsample = 4, 2, 200\n",
    "    nonlinearity, fft_mode, ret_mode = 'power', 'auto', 'envs'\n",
    "    strict = True\n",
    "    # create cochleagram\n",
    "    c_gram = cgram.cochleagram(wav_f, sr, n, low_lim, hi_lim, \n",
    "                               sample_factor, pad_factor, downsample,\n",
    "                               nonlinearity, fft_mode, ret_mode, strict)\n",
    "\n",
    "    # rescale to [0,255]\n",
    "    c_gram_rescaled =  255*(1-((np.max(c_gram)-c_gram)/np.ptp(c_gram)))\n",
    "    \n",
    "    # reshape to (256,256)\n",
    "    c_gram_reshape_1 = np.reshape(c_gram_rescaled, (211,400))\n",
    "    c_gram_reshape_2 = resample(c_gram_reshape_1,(256,256))\n",
    "    plot_cochleagram(c_gram_reshape_2, filename)\n",
    "\n",
    "    # prepare to run through network -- i.e., flatten it\n",
    "    c_gram_flatten = np.reshape(c_gram_reshape_2, (1, 256*256)) \n",
    "\n",
    "    return c_gram_flatten"
   ]
  },
  {
   "cell_type": "code",
   "execution_count": 8,
   "metadata": {},
   "outputs": [
    {
     "data": {
      "text/plain": [
       "'/home/davidlee/dev/kelletal2018'"
      ]
     },
     "execution_count": 8,
     "metadata": {},
     "output_type": "execute_result"
    }
   ],
   "source": [
    "import os\n",
    "'/'.join(os.getcwd().split('/')[:-1])"
   ]
  },
  {
   "cell_type": "code",
   "execution_count": 11,
   "metadata": {},
   "outputs": [],
   "source": [
    "tf.reset_default_graph()\n",
    "network = branched_network()\n",
    "\n",
    "word_key = np.load('./demo_stim/logits_to_word_key.npy') # load logits to word key\n",
    "music_key = np.load('./demo_stim/logits_to_genre_key.npy') # load logits to word key \n",
    "        \n",
    "def demo_from_wav(filename, network):\n",
    "    # generate cochleagram, then pass cochleagram through network and get logits for word branch\n",
    "    \n",
    "    c_gram = generate_cochleagram(filename)\n",
    "    logits = network.session.run(network.word_logits, feed_dict={network.x: c_gram})\n",
    "    return logits\n",
    "#     top_3 = np.argsort(logits, axis=1)[-3:][::-1]\n",
    "#     print top_3\n",
    "#     for i in top_3:\n",
    "#         print word_key[0][i]\n",
    "#     prediction = word_key[np.argmax(logits, axis=1)]\n",
    "#     print \"Speech Example ... \\n clean speech, actual label: Cheese, predicted_label: \" \\\n",
    "#         + prediction[0] +'\\n'"
   ]
  },
  {
   "cell_type": "code",
   "execution_count": 11,
   "metadata": {},
   "outputs": [
    {
     "data": {
      "image/png": "[encoded data removed]",
      "text/plain": [
       "<Figure size 432x216 with 1 Axes>"
      ]
     },
     "metadata": {},
     "output_type": "display_data"
    }
   ],
   "source": [
    "# spanish_logits = demo_from_wav('../data/spanish/spanish1/cheese.wav', network)\n",
    "# hindi_logits = demo_from_wav('../data/hindi/hindi3/cheese.wav', network)\n",
    "english_logits = demo_from_wav('../data/english/english6/cheese.wav', network)"
   ]
  },
  {
   "cell_type": "code",
   "execution_count": null,
   "metadata": {},
   "outputs": [],
   "source": [
    "arabic_logits = demo_from_wav('../data/arabic/arabic19/also.wav', network)\n",
    "# prediction = word_key[np.argmax(logits, axis=1)]\n",
    "indices = arabic_logits[0].argsort()[-10:]\n",
    "sorted_words = [word_key[i] for i in indices]\n",
    "print sorted_words"
   ]
  },
  {
   "cell_type": "code",
   "execution_count": 28,
   "metadata": {},
   "outputs": [
    {
     "name": "stdout",
     "output_type": "stream",
     "text": [
      "True\n"
     ]
    }
   ],
   "source": [
    "# prediction = word_key[np.argmax(arabic_logits, axis=1)]\n",
    "# print prediction\n",
    "indices = arabic_logits[0].argsort()[-200:]\n",
    "sorted_words = [word_key[i] for i in indices]\n",
    "print 'also' in sorted_words"
   ]
  },
  {
   "cell_type": "code",
   "execution_count": 31,
   "metadata": {},
   "outputs": [
    {
     "name": "stdout",
     "output_type": "stream",
     "text": [
      "219\n",
      "Spanish\n",
      "['change', 'cases', 'country', 'recently', 'taxes', 'recession', 'addition', 'children', 'department', 'changes', 'june', 'association', 'interests', 'used', 'decision', 'issued', 'must', 'shearson', '__genre__', '__null__']\n",
      "Hindi\n",
      "['true', 'recession', 'reached', \"there's\", 'course', 'country', 'used', 'change', 'issued', 'interests', 'changes', 'commission', 'addition', 'huge', 'children', 'june', 'decision', 'must', '__genre__', '__null__']\n",
      "English\n",
      "True\n"
     ]
    }
   ],
   "source": [
    "# print word_key\n",
    "# print spanish_logits[0]\n",
    "for i, word in enumerate(word_key):\n",
    "    if word == 'cheese':\n",
    "        print i\n",
    "        \n",
    "print \"Spanish\"\n",
    "indices = spanish_logits[0].argsort()[-20:]\n",
    "sorted_words = [word_key[i] for i in indices]\n",
    "print sorted_words\n",
    "\n",
    "print \"Hindi\"\n",
    "# print hindi_logits[0]\n",
    "indices = hindi_logits[0].argsort()[-20:]\n",
    "sorted_words = [word_key[i] for i in indices]\n",
    "print sorted_words\n",
    "\n",
    "print \"English\"\n",
    "# print hindi_logits[0]\n",
    "indices = english_logits[0].argsort()[-205:]\n",
    "sorted_words = [word_key[i] for i in indices]\n",
    "print 'cheese' in sorted_words"
   ]
  }
 ],
 "metadata": {
  "kernelspec": {
   "display_name": "Python 2",
   "language": "python",
   "name": "python2"
  },
  "language_info": {
   "codemirror_mode": {
    "name": "ipython",
    "version": 2
   },
   "file_extension": ".py",
   "mimetype": "text/x-python",
   "name": "python",
   "nbconvert_exporter": "python",
   "pygments_lexer": "ipython2",
   "version": "2.7.13"
  }
 },
 "nbformat": 4,
 "nbformat_minor": 2
}
