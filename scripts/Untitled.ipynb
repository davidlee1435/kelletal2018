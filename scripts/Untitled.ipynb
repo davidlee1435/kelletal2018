{
 "cells": [
  {
   "cell_type": "code",
   "execution_count": 14,
   "metadata": {},
   "outputs": [],
   "source": [
    "from collections import defaultdict\n",
    "import csv\n",
    "from pprint import pprint\n",
    "import operator"
   ]
  },
  {
   "cell_type": "code",
   "execution_count": 7,
   "metadata": {},
   "outputs": [],
   "source": [
    "rows = []\n",
    "with open('../data/speakers_all.csv', 'rb') as csvfile:\n",
    "    reader = csv.DictReader(csvfile)\n",
    "    for row in reader:\n",
    "        rows.append(row)"
   ]
  },
  {
   "cell_type": "code",
   "execution_count": 8,
   "metadata": {},
   "outputs": [
    {
     "name": "stdout",
     "output_type": "stream",
     "text": [
      "{'': '', 'birthplace': 'koussi, senegal', 'country': 'senegal', 'age': '24', 'file_missing?': 'TRUE', 'native_language': 'balanta', 'sex': 'male', 'age_onset': '12', 'filename': 'balanta', 'speakerid': '788'}\n"
     ]
    }
   ],
   "source": [
    "print rows[0]"
   ]
  },
  {
   "cell_type": "code",
   "execution_count": 22,
   "metadata": {},
   "outputs": [],
   "source": [
    "def print_top_n_by_key(key, n=25):\n",
    "    by_country = defaultdict(int)\n",
    "\n",
    "    for row in rows:\n",
    "        country = row.get(key, 'UNK')\n",
    "        by_country[country] += 1\n",
    "\n",
    "    by_country = dict(by_country)\n",
    "    sorted_by_country = sorted(by_country.items(), key=operator.itemgetter(1), reverse=True)\n",
    "    pprint(sorted_by_country[:n])"
   ]
  },
  {
   "cell_type": "code",
   "execution_count": 25,
   "metadata": {},
   "outputs": [
    {
     "name": "stdout",
     "output_type": "stream",
     "text": [
      "[('english', 579),\n",
      " ('spanish', 162),\n",
      " ('arabic', 102),\n",
      " ('mandarin', 65),\n",
      " ('french', 63),\n",
      " ('korean', 52),\n",
      " ('portuguese', 48),\n",
      " ('russian', 48),\n",
      " ('dutch', 47),\n",
      " ('turkish', 37)]\n"
     ]
    }
   ],
   "source": [
    "print_top_n_by_key('native_language', 10)"
   ]
  }
 ],
 "metadata": {
  "kernelspec": {
   "display_name": "venv",
   "language": "python",
   "name": "venv"
  },
  "language_info": {
   "codemirror_mode": {
    "name": "ipython",
    "version": 2
   },
   "file_extension": ".py",
   "mimetype": "text/x-python",
   "name": "python",
   "nbconvert_exporter": "python",
   "pygments_lexer": "ipython2",
   "version": "2.7.15"
  }
 },
 "nbformat": 4,
 "nbformat_minor": 2
}
